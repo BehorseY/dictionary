{
  "nbformat": 4,
  "nbformat_minor": 0,
  "metadata": {
    "colab": {
      "provenance": [],
      "authorship_tag": "ABX9TyOoQ1qLFKLdZZ8dLRZDRwnY",
      "include_colab_link": true
    },
    "kernelspec": {
      "name": "python3",
      "display_name": "Python 3"
    },
    "language_info": {
      "name": "python"
    }
  },
  "cells": [
    {
      "cell_type": "markdown",
      "metadata": {
        "id": "view-in-github",
        "colab_type": "text"
      },
      "source": [
        "<a href=\"https://colab.research.google.com/github/BehorseY/dictionary/blob/main/dictionary.ipynb\" target=\"_parent\"><img src=\"https://colab.research.google.com/assets/colab-badge.svg\" alt=\"Open In Colab\"/></a>"
      ]
    },
    {
      "cell_type": "code",
      "execution_count": null,
      "metadata": {
        "colab": {
          "base_uri": "https://localhost:8080/"
        },
        "id": "aYY96GXDVwty",
        "outputId": "da9b9c0e-5c7f-42cf-d597-e2ffb4f105ad"
      },
      "outputs": [
        {
          "output_type": "stream",
          "name": "stdout",
          "text": [
            "dict_values(['berat', 16, 'ogrenci'])\n"
          ]
        }
      ],
      "source": [
        "ogrenci={\"ad\":\"berat\",\"yas\":16,\"bolum\":\"ogrenci\"}\n",
        "print(ogrenci.values())"
      ]
    },
    {
      "cell_type": "code",
      "source": [
        "sehir={\"istanbul\":34,\"izmir\":35,\"ankara\":6}\n",
        "yenibilgi={\"Erzurum\":25,\"Bursa\":16}\n",
        "sehir.update(yenibilgi)\n",
        "print(sehir)"
      ],
      "metadata": {
        "colab": {
          "base_uri": "https://localhost:8080/"
        },
        "id": "-0v2R76KV8pG",
        "outputId": "d6336a82-f27c-4c73-ba5b-ca0f94028f7e"
      },
      "execution_count": null,
      "outputs": [
        {
          "output_type": "stream",
          "name": "stdout",
          "text": [
            "{'istanbul': 34, 'izmir': 35, 'ankara': 6, 'Erzurum': 25, 'Bursa': 16}\n"
          ]
        }
      ]
    },
    {
      "cell_type": "code",
      "source": [
        "meyveler={\"elma\":3,\"muz\":2,\"portakal\":4}\n",
        "if \"elma\" in meyveler:\n",
        "  print(\"elma sözlükte bulunuyor\")\n",
        "else:\n",
        "  (\"elma sözlükte bulunmuyor\")"
      ],
      "metadata": {
        "colab": {
          "base_uri": "https://localhost:8080/"
        },
        "id": "yF2BLIGxZEjt",
        "outputId": "c65eab97-84f3-43d3-b2a6-bf6b41e33697"
      },
      "execution_count": null,
      "outputs": [
        {
          "output_type": "stream",
          "name": "stdout",
          "text": [
            "elma sözlükte bulunuyor\n"
          ]
        }
      ]
    },
    {
      "cell_type": "code",
      "source": [
        "meyveler={\"elma\":3,\"muz\":2,\"portakal\":4}\n",
        "meyve=input(\"meyve adı giriniz: \")\n",
        "if meyve in meyveler:\n",
        "  print(f\"{meyve} sözlükte bulunuyor\")\n",
        "elif meyve not in meyveler:\n",
        "  print(f\"{meyve} sözlükte bulunmuyor\")"
      ],
      "metadata": {
        "colab": {
          "base_uri": "https://localhost:8080/"
        },
        "id": "Zv1S6py4Z3qE",
        "outputId": "06c47a4c-4e40-4a7e-b226-4c840da8849d"
      },
      "execution_count": null,
      "outputs": [
        {
          "output_type": "stream",
          "name": "stdout",
          "text": [
            "meyve adı giriniz: kivi\n",
            "kivi listede bulunmuyor\n"
          ]
        }
      ]
    },
    {
      "cell_type": "code",
      "source": [
        "notlar={\"matematik\":85,\"fizik\":90,\"kimya\":78}\n",
        "silinen=notlar.pop(\"kimya\")\n",
        "print(notlar)\n",
        "print(\"kimya notu:\",silinen)\n"
      ],
      "metadata": {
        "colab": {
          "base_uri": "https://localhost:8080/"
        },
        "id": "oMaeiPJPeSCe",
        "outputId": "43c86cdf-ff90-4b83-9e37-8f7b8e663904"
      },
      "execution_count": null,
      "outputs": [
        {
          "output_type": "stream",
          "name": "stdout",
          "text": [
            "{'matematik': 85, 'fizik': 90}\n",
            "kimya notu: 78\n"
          ]
        }
      ]
    },
    {
      "cell_type": "code",
      "source": [
        "ulke={\"türkiye\":\"ankara\",\"fransa\":\"paris\",\"almanya\":\"berlin\"}\n",
        "for ulke,sehir in ulke.items():\n",
        "  print(f\"{ulke}'nin başkenti {sehir}dir\")"
      ],
      "metadata": {
        "colab": {
          "base_uri": "https://localhost:8080/"
        },
        "id": "4Swxk-xtglKt",
        "outputId": "b9b8d5d2-e405-4817-ef45-306c538100eb"
      },
      "execution_count": null,
      "outputs": [
        {
          "output_type": "stream",
          "name": "stdout",
          "text": [
            "türkiye'nin başkenti ankaradir\n",
            "fransa'nin başkenti parisdir\n",
            "almanya'nin başkenti berlindir\n"
          ]
        }
      ]
    },
    {
      "cell_type": "code",
      "source": [
        "notlar={\"matematik\":85,\"fizik\":90}\n",
        "yeniNot={\"kimya\":78,\"fizik\":92}\n",
        "notlar.update(yeniNot)\n",
        "print(notlar)"
      ],
      "metadata": {
        "colab": {
          "base_uri": "https://localhost:8080/"
        },
        "id": "bww-rIktiwJG",
        "outputId": "ad3bf838-da39-4922-d399-66bcee6ef263"
      },
      "execution_count": null,
      "outputs": [
        {
          "output_type": "stream",
          "name": "stdout",
          "text": [
            "{'matematik': 85, 'fizik': 92, 'kimya': 78}\n"
          ]
        }
      ]
    },
    {
      "cell_type": "code",
      "source": [
        "kitap={\"python101\":30,\"data science\":45,\"machine learning\":50}\n",
        "print(\"kitap isimleri:\",kitap.keys())\n",
        "print(\"kitap fiyatları:\",kitap.values())"
      ],
      "metadata": {
        "colab": {
          "base_uri": "https://localhost:8080/"
        },
        "id": "mHtw8mSYje5-",
        "outputId": "118528a6-be38-47f6-eecf-b759968d92cf"
      },
      "execution_count": null,
      "outputs": [
        {
          "output_type": "stream",
          "name": "stdout",
          "text": [
            "kitap isimleri: dict_keys(['python101', 'data science', 'machine learning'])\n",
            "kitap fiyatları: dict_values([30, 45, 50])\n",
            "toplam fiyat: 125\n"
          ]
        }
      ]
    },
    {
      "cell_type": "code",
      "source": [
        "ogrenci={\"ad\":\"ayşe\",\"yas\":22,\"bolum\":\"tıp\"}\n",
        "yedekOgrenciBilgileri=ogrenci.copy()\n",
        "print(yedekOgrenciBilgileri)"
      ],
      "metadata": {
        "colab": {
          "base_uri": "https://localhost:8080/"
        },
        "id": "o-qKXsRskSfn",
        "outputId": "6f9e9c6f-e4e5-434b-cd62-c5bf3e36bbfe"
      },
      "execution_count": null,
      "outputs": [
        {
          "output_type": "stream",
          "name": "stdout",
          "text": [
            "{'ad': 'ayşe', 'yas': 22, 'bolum': 'tıp'}\n"
          ]
        }
      ]
    },
    {
      "cell_type": "code",
      "source": [
        "kelimeler=[\"elma\",\"armut\",\"elma\",\"portakal\",\"elma\",\"armut\"]\n",
        "kelimesayıları={}\n",
        "for kelime in kelimeler:\n",
        "  kelimesayıları[kelime]=kelimeler.count(kelime)\n",
        "print(kelimesayıları)\n"
      ],
      "metadata": {
        "colab": {
          "base_uri": "https://localhost:8080/"
        },
        "id": "b_RkF94ylVgm",
        "outputId": "d0b41156-c6da-4582-e562-6a58c25dd4c7"
      },
      "execution_count": null,
      "outputs": [
        {
          "output_type": "stream",
          "name": "stdout",
          "text": [
            "{'elma': 3, 'armut': 2, 'portakal': 1}\n"
          ]
        }
      ]
    },
    {
      "cell_type": "code",
      "source": [
        "kelimeler=[\"elma\",\"armut\",\"elma\",\"portakal\",\"elma\",\"armut\"]\n",
        "kelimesayıları={}\n",
        "for kelime in kelimeler:\n",
        "  if kelime in kelimesayıları:\n",
        "    kelimesayıları[kelime]+=1\n",
        "  else:\n",
        "    kelimesayıları[kelime]=1\n",
        "print(kelimesayıları)"
      ],
      "metadata": {
        "colab": {
          "base_uri": "https://localhost:8080/"
        },
        "id": "b0VUBtdomHpW",
        "outputId": "2d500c97-1878-4eed-cf8f-c4bf60a36e3e"
      },
      "execution_count": null,
      "outputs": [
        {
          "output_type": "stream",
          "name": "stdout",
          "text": [
            "{'elma': 3, 'armut': 2, 'portakal': 1}\n"
          ]
        }
      ]
    },
    {
      "cell_type": "code",
      "source": [],
      "metadata": {
        "id": "K4OIDSZfomBX"
      },
      "execution_count": null,
      "outputs": []
    }
  ]
}